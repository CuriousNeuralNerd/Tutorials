{
 "cells": [
  {
   "cell_type": "markdown",
   "id": "cc31c0e7",
   "metadata": {},
   "source": [
    "# pandas Basics and Usage\n",
    "pandas is a powerful library for data manipulation and analysis in Python. It provides data structures and functions needed to work with structured data seamlessly. This notebook will introduce you to the basics of pandas and demonstrate how to use it effectively."
   ]
  },
  {
   "cell_type": "markdown",
   "id": "324c81bb",
   "metadata": {},
   "source": [
    "## Installing pandas\n",
    "To install pandas, use the following command:\n",
    "```\n",
    "!pip install pandas\n",
    "```\n",
    "You can also install it via conda if you're using Anaconda.\n",
    "\n",
    "\n",
    "##### NOTE:\n",
    "\n",
    "- When using Anaconda any time you want to install a package you will need to put the \"!\" infront of the pip\n",
    "&nbsp;\n",
    "\n",
    "    - This will work\n",
    "      ```\n",
    "          !pip install pandas\n",
    "                 or\n",
    "          !pip3 install pandas\n",
    "      ```\n",
    "      &nbsp;\n",
    "    - This will not work\n",
    "      ```\n",
    "          pip install pandas\n",
    "                 or\n",
    "          pip3 install pandas\n",
    "      ```"
   ]
  },
  {
   "cell_type": "code",
   "execution_count": null,
   "id": "062497e7",
   "metadata": {},
   "outputs": [],
   "source": [
    "!pip install pandas"
   ]
  },
  {
   "cell_type": "markdown",
   "id": "08bdef24",
   "metadata": {},
   "source": [
    "## Data Structures\n",
    "pandas provides two primary data structures: Series and DataFrame."
   ]
  },
  {
   "cell_type": "markdown",
   "id": "efe4e4ec",
   "metadata": {},
   "source": [
    "### Series\n",
    "A Series is a one-dimensional labeled array capable of holding any data type."
   ]
  },
  {
   "cell_type": "code",
   "execution_count": 34,
   "id": "4200fa5c",
   "metadata": {},
   "outputs": [
    {
     "name": "stdout",
     "output_type": "stream",
     "text": [
      "Series:\n",
      "0    1\n",
      "1    2\n",
      "2    3\n",
      "3    4\n",
      "4    5\n",
      "dtype: int64\n",
      "\n",
      "Series with custom index:\n",
      "a    1\n",
      "b    2\n",
      "c    3\n",
      "d    4\n",
      "e    5\n",
      "dtype: int64\n"
     ]
    }
   ],
   "source": [
    "import pandas as pd\n",
    "\n",
    "data = [1, 2, 3, 4, 5]\n",
    "series = pd.Series(data)\n",
    "print(\"Series:\")\n",
    "print(series)\n",
    "\n",
    "custom_index_series = pd.Series(data, index=['a', 'b', 'c', 'd', 'e'])\n",
    "print(\"\\nSeries with custom index:\")\n",
    "print(custom_index_series)"
   ]
  },
  {
   "cell_type": "markdown",
   "id": "195a8b63",
   "metadata": {},
   "source": [
    "### DataFrame\n",
    "A DataFrame is a two-dimensional labeled data structure with columns of potentially different types."
   ]
  },
  {
   "cell_type": "code",
   "execution_count": 15,
   "id": "c2ab0b71",
   "metadata": {},
   "outputs": [
    {
     "name": "stdout",
     "output_type": "stream",
     "text": [
      "DataFrame:\n",
      "      Name  Age         City\n",
      "0    Alice   25     New York\n",
      "1      Bob   30  Los Angeles\n",
      "2  Charlie   35      Chicago\n"
     ]
    }
   ],
   "source": [
    "data = {\n",
    "    'Name': ['Alice', 'Bob', 'Charlie'], \n",
    "    'Age': [25, 30, 35], \n",
    "    'City': ['New York', 'Los Angeles', 'Chicago']\n",
    "}\n",
    "df = pd.DataFrame(data)\n",
    "print(\"DataFrame:\")\n",
    "print(df)"
   ]
  },
  {
   "cell_type": "markdown",
   "id": "5aa96bac",
   "metadata": {},
   "source": [
    "## Data Manipulation\n",
    "pandas makes it easy to load, manipulate, and analyze data."
   ]
  },
  {
   "cell_type": "markdown",
   "id": "70ec4460",
   "metadata": {},
   "source": [
    "### Loading Data\n",
    "You can load data from various file formats including CSV, Excel, and SQL."
   ]
  },
  {
   "cell_type": "code",
   "execution_count": 16,
   "id": "794e9af4",
   "metadata": {},
   "outputs": [
    {
     "name": "stdout",
     "output_type": "stream",
     "text": [
      "First 5 rows of the Titanic dataset:\n",
      "   survived  pclass     sex   age  sibsp  parch     fare embarked  class  \\\n",
      "0         0       3    male  22.0      1      0   7.2500        S  Third   \n",
      "1         1       1  female  38.0      1      0  71.2833        C  First   \n",
      "2         1       3  female  26.0      0      0   7.9250        S  Third   \n",
      "3         1       1  female  35.0      1      0  53.1000        S  First   \n",
      "4         0       3    male  35.0      0      0   8.0500        S  Third   \n",
      "\n",
      "     who  adult_male deck  embark_town alive  alone  \n",
      "0    man        True  NaN  Southampton    no  False  \n",
      "1  woman       False    C    Cherbourg   yes  False  \n",
      "2  woman       False  NaN  Southampton   yes   True  \n",
      "3  woman       False    C  Southampton   yes  False  \n",
      "4    man        True  NaN  Southampton    no   True  \n"
     ]
    }
   ],
   "source": [
    "url = \"https://raw.githubusercontent.com/mwaskom/seaborn-data/master/titanic.csv\"\n",
    "titanic_data = pd.read_csv(url)\n",
    "print(\"First 5 rows of the Titanic dataset:\")\n",
    "print(titanic_data.head())"
   ]
  },
  {
   "cell_type": "markdown",
   "id": "3d178b82",
   "metadata": {},
   "source": [
    "### Selecting Data\n",
    "\n",
    "You can select data from a DataFrame using labels or positions."
   ]
  },
  {
   "cell_type": "code",
   "execution_count": 11,
   "id": "2afd15e7",
   "metadata": {},
   "outputs": [
    {
     "name": "stdout",
     "output_type": "stream",
     "text": [
      "Selecting 'Name' column:\n",
      "0      Alice\n",
      "1        Bob\n",
      "2    Charlie\n",
      "Name: Name, dtype: object\n",
      "\n",
      "Selecting the first row:\n",
      "Name       Alice\n",
      "Age           25\n",
      "City    New York\n",
      "Name: 0, dtype: object\n"
     ]
    }
   ],
   "source": [
    "# Labels\n",
    "print(\"Selecting 'Name' column:\")\n",
    "print(df['Name'])\n",
    "\n",
    "# Positions\n",
    "print(\"\\nSelecting the first row:\")\n",
    "print(df.iloc[0])"
   ]
  },
  {
   "cell_type": "markdown",
   "id": "c9b914a9",
   "metadata": {},
   "source": [
    "### Data Cleaning\n",
    "Handling missing values is a crucial part of data cleaning."
   ]
  },
  {
   "cell_type": "code",
   "execution_count": 12,
   "id": "cab90246",
   "metadata": {},
   "outputs": [
    {
     "name": "stdout",
     "output_type": "stream",
     "text": [
      "Data after filling missing 'age' values:\n",
      "   survived  pclass     sex   age  sibsp  parch     fare embarked  class  \\\n",
      "0         0       3    male  22.0      1      0   7.2500        S  Third   \n",
      "1         1       1  female  38.0      1      0  71.2833        C  First   \n",
      "2         1       3  female  26.0      0      0   7.9250        S  Third   \n",
      "3         1       1  female  35.0      1      0  53.1000        S  First   \n",
      "4         0       3    male  35.0      0      0   8.0500        S  Third   \n",
      "\n",
      "     who  adult_male deck  embark_town alive  alone  \n",
      "0    man        True  NaN  Southampton    no  False  \n",
      "1  woman       False    C    Cherbourg   yes  False  \n",
      "2  woman       False  NaN  Southampton   yes   True  \n",
      "3  woman       False    C  Southampton   yes  False  \n",
      "4    man        True  NaN  Southampton    no   True  \n"
     ]
    }
   ],
   "source": [
    "titanic_data['age'] = titanic_data['age'].fillna(titanic_data['age'].mean())\n",
    "print(\"Data after filling missing 'age' values:\")\n",
    "print(titanic_data.head())"
   ]
  },
  {
   "cell_type": "markdown",
   "id": "371d4caa",
   "metadata": {},
   "source": [
    "### Data Transformation\n",
    "Transforming data includes operations like grouping and merging."
   ]
  },
  {
   "cell_type": "code",
   "execution_count": 17,
   "id": "b56ecd83",
   "metadata": {},
   "outputs": [
    {
     "name": "stdout",
     "output_type": "stream",
     "text": [
      "Grouped data by 'City':\n",
      "              Age\n",
      "City             \n",
      "Chicago      35.0\n",
      "Los Angeles  30.0\n",
      "New York     25.0\n"
     ]
    }
   ],
   "source": [
    "numeric_df = df.select_dtypes(include=['number'])\n",
    "grouped_data = df.groupby('City')[numeric_df.columns].mean()\n",
    "print(\"Grouped data by 'City':\")\n",
    "print(grouped_data)"
   ]
  },
  {
   "cell_type": "markdown",
   "id": "6232c516",
   "metadata": {},
   "source": [
    "## Data Analysis\n",
    "pandas provides various methods for descriptive statistics and visualization."
   ]
  },
  {
   "cell_type": "code",
   "execution_count": 21,
   "id": "221420fc",
   "metadata": {},
   "outputs": [
    {
     "name": "stdout",
     "output_type": "stream",
     "text": [
      "Summary statistics for Titanic dataset:\n",
      "         survived      pclass         age       sibsp       parch        fare\n",
      "count  891.000000  891.000000  714.000000  891.000000  891.000000  891.000000\n",
      "mean     0.383838    2.308642   29.699118    0.523008    0.381594   32.204208\n",
      "std      0.486592    0.836071   14.526497    1.102743    0.806057   49.693429\n",
      "min      0.000000    1.000000    0.420000    0.000000    0.000000    0.000000\n",
      "25%      0.000000    2.000000   20.125000    0.000000    0.000000    7.910400\n",
      "50%      0.000000    3.000000   28.000000    0.000000    0.000000   14.454200\n",
      "75%      1.000000    3.000000   38.000000    1.000000    0.000000   31.000000\n",
      "max      1.000000    3.000000   80.000000    8.000000    6.000000  512.329200\n"
     ]
    }
   ],
   "source": [
    "print(\"Summary statistics for Titanic dataset:\")\n",
    "print(titanic_data.describe())"
   ]
  },
  {
   "cell_type": "code",
   "execution_count": 35,
   "id": "cc1c6f18-700f-48cf-9f16-8194727dbac0",
   "metadata": {},
   "outputs": [
    {
     "name": "stdout",
     "output_type": "stream",
     "text": [
      "       survived  pclass     age   sibsp   parch    fare\n",
      "count    891.00  891.00  714.00  891.00  891.00  891.00\n",
      "mean       0.38    2.31   29.70    0.52    0.38   32.20\n",
      "std        0.49    0.84   14.53    1.10    0.81   49.69\n",
      "min        0.00    1.00    0.42    0.00    0.00    0.00\n",
      "25%        0.00    2.00   20.12    0.00    0.00    7.91\n",
      "50%        0.00    3.00   28.00    0.00    0.00   14.45\n",
      "75%        1.00    3.00   38.00    1.00    0.00   31.00\n",
      "max        1.00    3.00   80.00    8.00    6.00  512.33\n"
     ]
    }
   ],
   "source": [
    "# Adding '.round(2)' to round up and only display 2 decimals \n",
    "print(titanic_data.describe().round(2))"
   ]
  },
  {
   "cell_type": "markdown",
   "id": "eda2b09a",
   "metadata": {},
   "source": [
    "### Data Visualization with pandas\n",
    "You can quickly plot data using pandas' built-in plotting capabilities."
   ]
  },
  {
   "cell_type": "code",
   "execution_count": 23,
   "id": "ba80d032",
   "metadata": {},
   "outputs": [
    {
     "data": {
      "text/plain": [
       "<Axes: title={'center': 'Age Distribution'}, ylabel='Frequency'>"
      ]
     },
     "execution_count": 23,
     "metadata": {},
     "output_type": "execute_result"
    },
    {
     "data": {
      "image/png": "[encoded data removed]",
      "text/plain": [
       "<Figure size 640x480 with 1 Axes>"
      ]
     },
     "metadata": {},
     "output_type": "display_data"
    }
   ],
   "source": [
    "titanic_data['age'].plot(kind='hist', title='Age Distribution')"
   ]
  },
  {
   "cell_type": "markdown",
   "id": "8aade326",
   "metadata": {},
   "source": [
    "## Practical Example: Analyzing a Dataset\n",
    "Let's analyze the Titanic dataset to understand the distribution of ages and survival rates."
   ]
  },
  {
   "cell_type": "code",
   "execution_count": 27,
   "id": "4e7e1e7e",
   "metadata": {},
   "outputs": [
    {
     "name": "stdout",
     "output_type": "stream",
     "text": [
      "Age distribution:\n",
      "count    714.00\n",
      "mean      29.70\n",
      "std       14.53\n",
      "min        0.42\n",
      "25%       20.12\n",
      "50%       28.00\n",
      "75%       38.00\n",
      "max       80.00\n",
      "Name: age, dtype: float64\n",
      "Survival rate by age group:\n",
      "age_group\n",
      "(0, 12]     0.58\n",
      "(12, 20]    0.38\n",
      "(20, 40]    0.40\n",
      "(40, 60]    0.39\n",
      "(60, 80]    0.23\n",
      "Name: survived, dtype: float64\n"
     ]
    },
    {
     "name": "stderr",
     "output_type": "stream",
     "text": [
      "C:\\Users\\kmusg\\AppData\\Local\\Temp\\ipykernel_64448\\2912135128.py:5: FutureWarning: The default of observed=False is deprecated and will be changed to True in a future version of pandas. Pass observed=False to retain current behavior or observed=True to adopt the future default and silence this warning.\n",
      "  survival_rate_by_age_group = titanic_data.groupby('age_group')['survived'].mean().round(2)\n"
     ]
    }
   ],
   "source": [
    "print(\"Age distribution:\")\n",
    "print(titanic_data['age'].describe().round(2))\n",
    "\n",
    "titanic_data['age_group'] = pd.cut(titanic_data['age'], bins=[0, 12, 20, 40, 60, 80])\n",
    "survival_rate_by_age_group = titanic_data.groupby('age_group')['survived'].mean().round(2)\n",
    "print(\"Survival rate by age group:\")\n",
    "print(survival_rate_by_age_group)"
   ]
  },
  {
   "cell_type": "markdown",
   "id": "3e7717db",
   "metadata": {},
   "source": [
    "## Conclusion\n",
    "This notebook has covered the basics of pandas, including data structures, manipulation, and analysis. With these tools, you can start using pandas for your data analysis tasks."
   ]
  },
  {
   "cell_type": "markdown",
   "id": "85a26b0d-f4e2-4f1f-b06a-80f6a6fa84b1",
   "metadata": {},
   "source": [
    "## Extra Resources\n",
    "\n",
    "Hyperlinks are attached to each of the extra resources\n",
    "\n",
    "- [LearnDataSci](https://www.learndatasci.com/tutorials/python-pandas-tutorial-complete-introduction-for-beginners/)\n",
    "    - A complete tutorial for introducing beginners to pandas\n",
    "      \n",
    "&nbsp;\n",
    "\n",
    "- [Learn Pandas](https://youtu.be/DkjCaAMBGWM?si=zBNdZqWwT6v606j-)\n",
    "    - YouTube video\n",
    "        - Time = 22 mins\n",
    "          \n",
    "&nbsp; \n",
    "     \n",
    "- [freeCodeCamp](https://youtu.be/gtjxAH8uaP0?si=Eu5f8oSpQ7i99LHS)\n",
    "    - YouTube video\n",
    "        - Full complete pandas course from beginner to expert\n",
    "        - Time = 4:57 hrs"
   ]
  },
  {
   "cell_type": "code",
   "execution_count": null,
   "id": "ec7e5bf9-1793-4b11-a6e3-b51e5e808e2a",
   "metadata": {},
   "outputs": [],
   "source": []
  }
 ],
 "metadata": {
  "kernelspec": {
   "display_name": "Python 3 (ipykernel)",
   "language": "python",
   "name": "python3"
  },
  "language_info": {
   "codemirror_mode": {
    "name": "ipython",
    "version": 3
   },
   "file_extension": ".py",
   "mimetype": "text/x-python",
   "name": "python",
   "nbconvert_exporter": "python",
   "pygments_lexer": "ipython3",
   "version": "3.11.3"
  }
 },
 "nbformat": 4,
 "nbformat_minor": 5
}
