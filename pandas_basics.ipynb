{
 "cells": [
  {
   "cell_type": "markdown",
   "id": "cc31c0e7",
   "metadata": {},
   "source": [
    "# pandas Basics and Usage\n",
    "\n",
    "- Overview:\n",
    "    - pandas is a powerful Python library used for data manipulation and analysis. It is built on top of NumPy and provides data structures like Series and DataFrame, which are optimized for data handling. Whether you're dealing with time series data, statistical data, or any structured data, pandas simplifies the process of cleaning, transforming, and analyzing your data.\n",
    "\n",
    "- Importance:\n",
    "    - Learning how to use pandas effectively is crucial for anyone involved in data science or data analysis. It allows you to perform complex data manipulations with simple commands, making it possible to handle large datasets efficiently."
   ]
  },
  {
   "cell_type": "markdown",
   "id": "324c81bb",
   "metadata": {},
   "source": [
    "## Installing pandas\n",
    "To install pandas, use the following command:\n",
    "```\n",
    "!pip install pandas\n",
    "```\n",
    "You can also install it via conda if you're using Anaconda.\n",
    "\n",
    "\n",
    "##### NOTE:\n",
    "\n",
    "- When using Anaconda any time you want to install a package you will need to put the \"!\" infront of the pip\n",
    "&nbsp;\n",
    "\n",
    "    - This will work\n",
    "      ```\n",
    "          !pip install pandas\n",
    "                 or\n",
    "          !pip3 install pandas\n",
    "      ```\n",
    "      &nbsp;\n",
    "    - This will not work\n",
    "      ```\n",
    "          pip install pandas\n",
    "                 or\n",
    "          pip3 install pandas\n",
    "      ```"
   ]
  },
  {
   "cell_type": "code",
   "execution_count": null,
   "id": "062497e7",
   "metadata": {},
   "outputs": [],
   "source": [
    "!pip install pandas"
   ]
  },
  {
   "cell_type": "markdown",
   "id": "08bdef24",
   "metadata": {},
   "source": [
    "## Data Structures\n",
    "\n",
    "- pandas primarily uses two data structures: `Series` and `DataFrame`. Understanding these structures is key to using pandas effectively, as they form the foundation for most of the library's functionality."
   ]
  },
  {
   "cell_type": "markdown",
   "id": "efe4e4ec",
   "metadata": {},
   "source": [
    "### Series\n",
    "\n",
    "- Definition:\n",
    "    - A Series in pandas is a one-dimensional labeled array capable of holding any data type, such as integers, floats, strings, or Python objects. Each element in a Series is associated with an index, which is similar to the index in a list but more powerful because it can be customized.\n",
    "\n",
    "- Use Cases:\n",
    "    - Series are often used for representing a single column or row in a DataFrame or for storing simple lists of data where the order and indexing are important. Series can be thought of as a flexible array with labeled indices.\n",
    "\n",
    "- Examples:\n",
    "    - Creating a basic Series with default numeric indexing.\n",
    "    - Creating a Series with custom indexing, which can be particularly useful when the data has a natural label, such as dates, names, or categories."
   ]
  },
  {
   "cell_type": "code",
   "execution_count": null,
   "id": "4200fa5c",
   "metadata": {},
   "outputs": [],
   "source": [
    "import pandas as pd\n",
    "\n",
    "data = [1, 2, 3, 4, 5]\n",
    "series = pd.Series(data)\n",
    "print(\"Series:\")\n",
    "print(series)\n",
    "\n",
    "custom_index_series = pd.Series(data, index=['a', 'b', 'c', 'd', 'e'])\n",
    "print(\"\\nSeries with custom index:\")\n",
    "print(custom_index_series)"
   ]
  },
  {
   "cell_type": "markdown",
   "id": "195a8b63",
   "metadata": {},
   "source": [
    "### DataFrame\n",
    "\n",
    "- Definition:\n",
    "    - A DataFrame is a two-dimensional, size-mutable, and potentially heterogeneous tabular data structure with labeled axes (rows and columns). Think of it as a table or a spreadsheet in Excel but with more powerful capabilities for data manipulation and analysis.\n",
    "\n",
    "- Use Cases:\n",
    "    - DataFrames are the primary data structure in pandas and are used to store and manipulate large datasets. They are ideal for representing data where you have multiple variables (columns) and observations (rows).\n",
    "\n",
    "- Examples:\n",
    "    - Creating a DataFrame from a dictionary where each key-value pair represents a column and its corresponding data."
   ]
  },
  {
   "cell_type": "code",
   "execution_count": null,
   "id": "c2ab0b71",
   "metadata": {},
   "outputs": [],
   "source": [
    "data = {\n",
    "    'Name': ['Alice', 'Bob', 'Charlie'], \n",
    "    'Age': [25, 30, 35], \n",
    "    'City': ['New York', 'Los Angeles', 'Chicago']\n",
    "}\n",
    "df = pd.DataFrame(data)\n",
    "print(\"DataFrame:\")\n",
    "print(df)"
   ]
  },
  {
   "cell_type": "markdown",
   "id": "5aa96bac",
   "metadata": {},
   "source": [
    "## Data Manipulation\n",
    "\n",
    "- pandas makes it incredibly easy to load, manipulate, and analyze data. Data manipulation tasks include loading data from files, selecting and filtering data, cleaning data by handling missing values, and transforming data for further analysis."
   ]
  },
  {
   "cell_type": "markdown",
   "id": "70ec4460",
   "metadata": {},
   "source": [
    "### Loading Data\n",
    "\n",
    "- Overview:\n",
    "    - pandas supports loading data from a variety of file formats, including CSV, Excel, SQL databases, and more. This flexibility makes it a go-to tool for data scientists and analysts who often need to work with different types of data sources.\n",
    "\n",
    "- Examples:\n",
    "    - Loading data from a CSV file directly from a URL into a DataFrame. This is particularly useful when working with online datasets or when automating data processing workflows."
   ]
  },
  {
   "cell_type": "code",
   "execution_count": null,
   "id": "794e9af4",
   "metadata": {},
   "outputs": [],
   "source": [
    "url = \"https://raw.githubusercontent.com/mwaskom/seaborn-data/master/titanic.csv\"\n",
    "titanic_data = pd.read_csv(url)\n",
    "print(\"First 5 rows of the Titanic dataset:\")\n",
    "print(titanic_data.head())"
   ]
  },
  {
   "cell_type": "markdown",
   "id": "3d178b82",
   "metadata": {},
   "source": [
    "### Selecting Data\n",
    "\n",
    "- Overview:\n",
    "    - Selecting data from a DataFrame is a common operation in pandas. You can select columns using labels (column names) and rows using positions or conditions. This flexibility allows you to extract specific parts of your data for analysis.\n",
    "\n",
    "- Examples:\n",
    "    - Selecting a single column by its label, which returns a Series.\n",
    "    - Selecting rows using the iloc indexer, which allows you to select rows by their integer location."
   ]
  },
  {
   "cell_type": "code",
   "execution_count": null,
   "id": "2afd15e7",
   "metadata": {},
   "outputs": [],
   "source": [
    "# Labels\n",
    "print(\"Selecting 'Name' column:\")\n",
    "print(df['Name'])\n",
    "\n",
    "# Positions\n",
    "print(\"\\nSelecting the first row:\")\n",
    "print(df.iloc[0])"
   ]
  },
  {
   "cell_type": "markdown",
   "id": "c9b914a9",
   "metadata": {},
   "source": [
    "### Data Cleaning\n",
    "\n",
    "- Overview:\n",
    "    - Data cleaning is a critical step in data analysis. It involves handling missing values, correcting errors, and ensuring that the data is in a suitable format for analysis. pandas provides a suite of functions to handle these tasks efficiently.\n",
    "\n",
    "- Examples:\n",
    "    - Filling missing values in a DataFrame using the mean of the column, which is a common strategy to handle missing data in numerical columns."
   ]
  },
  {
   "cell_type": "code",
   "execution_count": null,
   "id": "cab90246",
   "metadata": {},
   "outputs": [],
   "source": [
    "titanic_data['age'] = titanic_data['age'].fillna(titanic_data['age'].mean())\n",
    "print(\"Data after filling missing 'age' values:\")\n",
    "print(titanic_data.head())"
   ]
  },
  {
   "cell_type": "markdown",
   "id": "7144129a-1eb4-4539-95bd-a02e38877389",
   "metadata": {},
   "source": [
    "### Handle Missing Data\n",
    "\n",
    "- Overview:\n",
    "    - Missing data can skew your analysis if not handled properly. pandas provides methods like `dropna()` to remove missing values (NaNs) or `fillna()` to fill them with specific values or statistical measures.\n",
    "\n",
    "- Examples:\n",
    "    - Using `dropna()` to remove rows with missing values in specific columns. This is useful when those rows would otherwise impact the results of your analysis."
   ]
  },
  {
   "cell_type": "code",
   "execution_count": null,
   "id": "a4ea4264-14af-4d97-997f-e19a1d2d6837",
   "metadata": {},
   "outputs": [],
   "source": [
    "# Remove rows with missing values in 'age', 'fare', and 'embarked' columns\n",
    "titanic_data_cleaned = titanic_data.dropna(subset=['age', 'fare', 'embarked'])\n",
    "print(titanic_data_cleaned.head())"
   ]
  },
  {
   "cell_type": "markdown",
   "id": "ee130492-cb1a-49f5-85db-a981ad117e3f",
   "metadata": {},
   "source": [
    "### Sorting Data\n",
    "\n",
    "- Overview:\n",
    "    - Sorting is a fundamental operation in data analysis that allows you to reorder your data based on the values in one or more columns. pandas makes it easy to sort data in ascending or descending order.\n",
    "\n",
    "- Examples:\n",
    "    - Sorting a DataFrame by a specific column in descending order to identify the highest or lowest values, which can be particularly useful in financial data analysis or any scenario where ranking is important."
   ]
  },
  {
   "cell_type": "code",
   "execution_count": null,
   "id": "c53b5b8c-3473-4979-986c-98e93f90db7c",
   "metadata": {},
   "outputs": [],
   "source": [
    "# Sort the Titanic dataset by the 'fare' column in descending order\n",
    "titanic_data_sorted = titanic_data.sort_values(by='fare', ascending=False)\n",
    "print(titanic_data_sorted.head())"
   ]
  },
  {
   "cell_type": "markdown",
   "id": "293f7ea3-0aa1-41ac-bb39-fc24cde74234",
   "metadata": {},
   "source": [
    "### Resetting the Index\n",
    "\n",
    "- Overview:\n",
    "    - After sorting or filtering a DataFrame, the original index might no longer be meaningful. The `reset_index(`) function is used to reset the index, which can be useful for maintaining consistency in your DataFrame, especially before exporting or further manipulation.\n",
    "\n",
    "- Examples:\n",
    "    - Resetting the index of a sorted DataFrame to ensure the row labels start from 0 again, making it easier to reference specific rows in subsequent operations."
   ]
  },
  {
   "cell_type": "code",
   "execution_count": null,
   "id": "e92f9b11-5ff2-4b4a-b87f-b90d1bc0c0ed",
   "metadata": {},
   "outputs": [],
   "source": [
    "# Reset index after sorting the Titanic dataset\n",
    "titanic_data_reset = titanic_data_sorted.reset_index(drop=True)\n",
    "print(titanic_data_reset.head())"
   ]
  },
  {
   "cell_type": "markdown",
   "id": "2820cc2e-813b-45e7-8ef8-d45a1358ac2c",
   "metadata": {},
   "source": [
    "### Creating a Copy\n",
    "\n",
    "- Overview:\n",
    "    - Creating a copy of a DataFrame is often necessary when you want to experiment with data transformations without altering the original dataset. The `copy()` method ensures that changes made to the new DataFrame do not affect the original data.\n",
    "\n",
    "- Examples:\n",
    "    - Creating a deep copy of a DataFrame before performing operations that may modify the data, such as filtering or transforming columns."
   ]
  },
  {
   "cell_type": "code",
   "execution_count": null,
   "id": "d46609df-d891-4ebe-9e93-b7453c95d91a",
   "metadata": {},
   "outputs": [],
   "source": [
    "# Create a copy of the Titanic dataset\n",
    "titanic_data_copy = titanic_data.copy()\n",
    "print(titanic_data_copy.head())"
   ]
  },
  {
   "cell_type": "markdown",
   "id": "371d4caa",
   "metadata": {},
   "source": [
    "### Data Transformation\n",
    "\n",
    "- Overview:\n",
    "    - Data transformation involves reshaping, aggregating, and combining data to prepare it for analysis. pandas provides functions for grouping data, merging DataFrames, and applying custom functions to transform your data.\n",
    "      \n",
    "- Examples:\n",
    "    - Grouping data by a categorical variable and calculating aggregate statistics, such as the mean. This is commonly used in summarizing data across different groups, such as calculating the average sales per region."
   ]
  },
  {
   "cell_type": "code",
   "execution_count": null,
   "id": "b56ecd83",
   "metadata": {},
   "outputs": [],
   "source": [
    "numeric_df = df.select_dtypes(include=['number'])\n",
    "grouped_data = df.groupby('City')[numeric_df.columns].mean()\n",
    "print(\"Grouped data by 'City':\")\n",
    "print(grouped_data)"
   ]
  },
  {
   "cell_type": "markdown",
   "id": "6232c516",
   "metadata": {},
   "source": [
    "## Data Analysis\n",
    "\n",
    "- Overview:\n",
    "    - pandas simplifies the process of data analysis by providing functions for descriptive statistics and data visualization. These functions allow you to quickly summarize and explore your data, identifying trends, outliers, and relationships.\n",
    "\n",
    "- Examples:\n",
    "    - Generating summary statistics for a DataFrame, including measures like mean, median, and standard deviation, to understand the distribution and central tendency of your data."
   ]
  },
  {
   "cell_type": "code",
   "execution_count": null,
   "id": "221420fc",
   "metadata": {},
   "outputs": [],
   "source": [
    "print(\"Summary statistics for Titanic dataset:\")\n",
    "print(titanic_data.describe())"
   ]
  },
  {
   "cell_type": "markdown",
   "id": "10d7cc3e-532e-455d-9740-63a23e7407bc",
   "metadata": {},
   "source": [
    "### Calculating the Mean\n",
    "\n",
    "- Overview:\n",
    "    - The mean (average) is a fundamental statistical measure that provides insight into the central tendency of your data. In pandas, the `mean()` function can be applied to any numerical column to calculate this value.\n",
    "\n",
    "- Examples:\n",
    "    - Calculating the mean fare in the Titanic dataset to understand the average cost of tickets, which can provide insights into the socio-economic background of passengers."
   ]
  },
  {
   "cell_type": "code",
   "execution_count": null,
   "id": "5a08c3b5-b2f2-404a-b4b8-50688fac42a4",
   "metadata": {},
   "outputs": [],
   "source": [
    "# Calculate the mean of the 'fare' column in the Titanic dataset\n",
    "mean_fare = titanic_data['fare'].mean()\n",
    "print('Mean Fare:', mean_fare)"
   ]
  },
  {
   "cell_type": "markdown",
   "id": "e9045c40-d8a5-4993-b095-1c276dcf4687",
   "metadata": {},
   "source": [
    "### Calculating the Median\n",
    "\n",
    "- Overview:\n",
    "    - The `median()` is another measure of central tendency that represents the middle value in a sorted list of numbers. It is less sensitive to outliers than the mean, making it a better measure of central tendency for skewed data.\n",
    "\n",
    "- Examples:\n",
    "    - Calculating the median fare in the Titanic dataset to compare with the mean fare, which can help assess whether the distribution of fares is skewed."
   ]
  },
  {
   "cell_type": "code",
   "execution_count": null,
   "id": "6fedbdb4-61d9-45ab-be17-538f9bc50e57",
   "metadata": {},
   "outputs": [],
   "source": [
    "# Calculate the median of the 'fare' column in the Titanic dataset\n",
    "median_fare = titanic_data['fare'].median()\n",
    "print('Median Fare:', median_fare)"
   ]
  },
  {
   "cell_type": "markdown",
   "id": "f92d250b-1dd3-4970-8246-353b255aefd5",
   "metadata": {},
   "source": [
    "### Calculating the Standard Deviation\n",
    "\n",
    "The `std()` method is used to calculate the standard deviation of numerical columns in a DataFrame.\n",
    "\n",
    "- Overview:\n",
    "    - Standard deviation is a measure of the dispersion or spread of data points around the mean. It indicates how much the values in a dataset deviate from the average, which is crucial for understanding the variability of your data.\n",
    "\n",
    "- Examples:\n",
    "    - Calculating the standard deviation of fares in the Titanic dataset to determine how much ticket prices varied among passengers."
   ]
  },
  {
   "cell_type": "code",
   "execution_count": null,
   "id": "7b39a039-b5bf-4938-98df-a081dc99cb8e",
   "metadata": {},
   "outputs": [],
   "source": [
    "# Calculate the standard deviation of the 'fare' column in the Titanic dataset\n",
    "std_fare = titanic_data['fare'].std()\n",
    "print('Standard Deviation of Fare:', std_fare)"
   ]
  },
  {
   "cell_type": "markdown",
   "id": "d4447e3a-2203-492e-9274-459b7d9c169c",
   "metadata": {},
   "source": [
    "### Displaying the First Few Rows\n",
    "\n",
    "- Overview:\n",
    "    - The `head()` function in pandas allows you to quickly inspect the first few rows of a DataFrame. This is particularly useful when you want to get an overview of your data or check whether it has been loaded correctly.\n",
    "\n",
    "- Examples:\n",
    "    - Displaying the first five rows of the Titanic dataset to verify that the data has been loaded correctly and to get a sense of its structure."
   ]
  },
  {
   "cell_type": "code",
   "execution_count": null,
   "id": "0657b187-2778-43fd-9cee-ce046816feba",
   "metadata": {},
   "outputs": [],
   "source": [
    "# Display the first 5 rows of the Titanic dataset\n",
    "print(titanic_data.head())"
   ]
  },
  {
   "cell_type": "markdown",
   "id": "460f6ede-eaaf-4139-8a88-a8ee5a1455c4",
   "metadata": {},
   "source": [
    "### Rounding\n",
    "\n",
    "- Overview:\n",
    "    - Rounding numerical data is often necessary for presentation purposes or when you need to reduce the precision of your data. pandas allows you to round the values in a DataFrame to a specified number of decimal places using the `round()` method.\n",
    "\n",
    "- Examples:\n",
    "    - Rounding the summary statistics of the Titanic dataset to two decimal places for easier interpretation and presentation."
   ]
  },
  {
   "cell_type": "code",
   "execution_count": null,
   "id": "cc1c6f18-700f-48cf-9f16-8194727dbac0",
   "metadata": {},
   "outputs": [],
   "source": [
    "# Adding '.round(2)' to round up and only display 2 decimals \n",
    "print(titanic_data.describe().round(2))"
   ]
  },
  {
   "cell_type": "markdown",
   "id": "eda2b09a",
   "metadata": {},
   "source": [
    "### Data Visualization with pandas\n",
    "\n",
    "- Overview:\n",
    "    - pandas integrates seamlessly with Matplotlib, allowing you to create quick and easy visualizations directly from your DataFrame. These visualizations are crucial for exploratory data analysis, helping you uncover patterns, trends, and relationships in your data.\n",
    "\n",
    "- Examples:\n",
    "    - Creating a histogram of the `age` column in the Titanic dataset to visualize the distribution of passengers' ages, which can reveal insights about the demographic structure of the passengers."
   ]
  },
  {
   "cell_type": "code",
   "execution_count": null,
   "id": "ba80d032",
   "metadata": {},
   "outputs": [],
   "source": [
    "titanic_data['age'].plot(kind='hist', title='Age Distribution')"
   ]
  },
  {
   "cell_type": "markdown",
   "id": "8aade326",
   "metadata": {},
   "source": [
    "## Practical Example: Analyzing a Dataset\n",
    "\n",
    "Let's analyze the Titanic dataset to understand the distribution of ages and survival rates.\n",
    "\n",
    "- Overview:\n",
    "\n",
    "    - In this practical example, we analyze the Titanic dataset to understand the distribution of ages and survival rates. This example demonstrates how to use pandas to perform exploratory data analysis, clean data, and generate insights from a real-world dataset.\n",
    "\n",
    "- Steps Involved:\n",
    "\n",
    "    - Age Distribution: We first describe the distribution of ages in the dataset using pandas' descriptive statistics. This helps us understand the overall age demographics of the passengers.\n",
    "\n",
    "    - Creating Age Groups: We then categorize passengers into age groups using the `pd.cut()` function, which divides the continuous `age` variable into discrete bins. This is useful for summarizing and comparing survival rates across different age groups.\n",
    "\n",
    "    - Survival Rate Analysis: Finally, we calculate the survival rate for each age group by grouping the data by age group and taking the mean of the `survived` column. This provides insights into how survival chances varied with age, which can be critical for historical or sociological analysis.\n",
    "\n",
    "- Conclusion:\n",
    "\n",
    "    - This practical example highlights the power of pandas in performing data analysis. By following these steps, you can gain valuable insights from your data, which is essential for data-driven decision-making in various fields."
   ]
  },
  {
   "cell_type": "code",
   "execution_count": null,
   "id": "4e7e1e7e",
   "metadata": {},
   "outputs": [],
   "source": [
    "print(\"Age distribution:\")\n",
    "print(titanic_data['age'].describe().round(2))\n",
    "\n",
    "titanic_data['age_group'] = pd.cut(titanic_data['age'], bins=[0, 12, 20, 40, 60, 80])\n",
    "survival_rate_by_age_group = titanic_data.groupby('age_group')['survived'].mean().round(2)\n",
    "print(\"Survival rate by age group:\")\n",
    "print(survival_rate_by_age_group)"
   ]
  },
  {
   "cell_type": "markdown",
   "id": "3e7717db",
   "metadata": {},
   "source": [
    "## Conclusion\n",
    "This notebook has covered the basics of pandas, including data structures, manipulation, and analysis. With these tools, you can start using pandas for your data analysis tasks."
   ]
  },
  {
   "cell_type": "markdown",
   "id": "85a26b0d-f4e2-4f1f-b06a-80f6a6fa84b1",
   "metadata": {},
   "source": [
    "## Extra Resources\n",
    "\n",
    "Hyperlinks are attached to each of the extra resources\n",
    "\n",
    "- [LearnDataSci](https://www.learndatasci.com/tutorials/python-pandas-tutorial-complete-introduction-for-beginners/)\n",
    "    - A complete tutorial for introducing beginners to pandas\n",
    "      \n",
    "&nbsp;\n",
    "\n",
    "- [Learn Pandas](https://youtu.be/DkjCaAMBGWM?si=zBNdZqWwT6v606j-)\n",
    "    - YouTube video\n",
    "        - Time = 22 mins\n",
    "          \n",
    "&nbsp; \n",
    "     \n",
    "- [freeCodeCamp](https://youtu.be/gtjxAH8uaP0?si=Eu5f8oSpQ7i99LHS)\n",
    "    - YouTube video\n",
    "        - Full complete pandas course from beginner to expert\n",
    "        - Time = 4:57 hrs"
   ]
  }
 ],
 "metadata": {
  "kernelspec": {
   "display_name": "Python 3 (ipykernel)",
   "language": "python",
   "name": "python3"
  },
  "language_info": {
   "codemirror_mode": {
    "name": "ipython",
    "version": 3
   },
   "file_extension": ".py",
   "mimetype": "text/x-python",
   "name": "python",
   "nbconvert_exporter": "python",
   "pygments_lexer": "ipython3",
   "version": "3.11.7"
  }
 },
 "nbformat": 4,
 "nbformat_minor": 5
}
