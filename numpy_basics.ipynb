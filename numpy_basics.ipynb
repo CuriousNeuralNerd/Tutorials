{
 "cells": [
  {
   "cell_type": "markdown",
   "id": "4b3c770f",
   "metadata": {},
   "source": [
    "# NumPy Basics and Usage\n",
    "NumPy is a powerful library for numerical computing in Python. It provides support for arrays, matrices, and many mathematical functions. This notebook will guide you through the basics of NumPy and show you how to use it effectively."
   ]
  },
  {
   "cell_type": "markdown",
   "id": "78cf9d28",
   "metadata": {},
   "source": [
    "## Installing NumPy\n",
    "To install NumPy, use the following command:\n",
    "```\n",
    "pip install numpy\n",
    "```\n",
    "You can also install it via conda if you're using Anaconda.\n",
    "\n",
    "##### NOTE:\n",
    "\n",
    "- When using Anaconda any time you want to install a package you will need to put the \"!\" infront of the pip\n",
    "&nbsp;\n",
    "\n",
    "    - This will work\n",
    "      ```\n",
    "          !pip install numpy\n",
    "                 or\n",
    "          !pip3 install numpy\n",
    "      ```\n",
    "      &nbsp;\n",
    "    - This will not work\n",
    "      ```\n",
    "          pip install numpy\n",
    "                 or\n",
    "          pip3 install numpy\n",
    "      ```"
   ]
  },
  {
   "cell_type": "code",
   "execution_count": null,
   "id": "3233ffab",
   "metadata": {},
   "outputs": [],
   "source": [
    "!pip install numpy"
   ]
  },
  {
   "cell_type": "markdown",
   "id": "08233d38",
   "metadata": {},
   "source": [
    "## Creating Arrays\n",
    "NumPy arrays are the core of the library. You can create arrays in several ways, using functions like `np.array`, `np.zeros`, `np.ones`, `np.empty`, `np.arange`, and `np.linspace`."
   ]
  },
  {
   "cell_type": "code",
   "execution_count": 11,
   "id": "39536534",
   "metadata": {},
   "outputs": [
    {
     "name": "stdout",
     "output_type": "stream",
     "text": [
      "Array from list: [1 2 3 4 5]\n",
      "\n",
      "Array of zeros:\n",
      " [[0. 0. 0.]\n",
      " [0. 0. 0.]\n",
      " [0. 0. 0.]]\n",
      "\n",
      "Array of ones:\n",
      " [[1. 1. 1. 1.]\n",
      " [1. 1. 1. 1.]]\n",
      "\n",
      "Empty array:\n",
      " [[ 2.5  5. ]\n",
      " [ 7.5 10. ]]\n",
      "\n",
      "Array with range: [0 2 4 6 8]\n",
      "\n",
      "Linspace array: [ 0.   2.5  5.   7.5 10. ]\n"
     ]
    }
   ],
   "source": [
    "import numpy as np\n",
    "\n",
    "# Creating an array from a list\n",
    "array_from_list = np.array([1, 2, 3, 4, 5])\n",
    "print(\"Array from list:\", array_from_list)\n",
    "\n",
    "# Creating an array of zeros\n",
    "# The argument (3, 3) specifies the shape of the array. Here, it creates a 3x3 array filled with zeros.\n",
    "zeros_array = np.zeros((3, 3))\n",
    "print(\"\\nArray of zeros:\\n\", zeros_array)\n",
    "\n",
    "# Creating an array of ones\n",
    "ones_array = np.ones((2, 4))\n",
    "print(\"\\nArray of ones:\\n\", ones_array)\n",
    "\n",
    "# Creating an empty array\n",
    "empty_array = np.empty((2, 2))\n",
    "print(\"\\nEmpty array:\\n\", empty_array)\n",
    "\n",
    "# Creating an array with a range of values\n",
    "# The arguments (0, 10, 2) specify the start (0), stop (10), and step size (2). Here, it creates an array with values [0, 2, 4, 6, 8].\n",
    "range_array = np.arange(0, 10, 2)\n",
    "print(\"\\nArray with range:\", range_array)\n",
    "\n",
    "# Creating an array with evenly spaced values\n",
    "# The arguments (0, 10, 5) specify the start (0), stop (10), and number of values (5). Here, it creates an array with 5 values evenly spaced between 0 and 10.\n",
    "linspace_array = np.linspace(0, 10, 5)\n",
    "print(\"\\nLinspace array:\", linspace_array)"
   ]
  },
  {
   "cell_type": "markdown",
   "id": "4fe92504",
   "metadata": {},
   "source": [
    "## Basic Array Operations\n",
    "NumPy arrays support a variety of operations, such as addition, subtraction, multiplication, and division."
   ]
  },
  {
   "cell_type": "code",
   "execution_count": 14,
   "id": "110ea815",
   "metadata": {},
   "outputs": [
    {
     "name": "stdout",
     "output_type": "stream",
     "text": [
      "Sum of arrays: [5 7 9]\n",
      "\n",
      "Product of arrays: [ 4 10 18]\n",
      "\n",
      "Dot product of arrays: 32\n"
     ]
    }
   ],
   "source": [
    "# Element-wise addition\n",
    "array1 = np.array([1, 2, 3])\n",
    "array2 = np.array([4, 5, 6])\n",
    "sum_array = array1 + array2\n",
    "print(\"Sum of arrays:\", sum_array)\n",
    "\n",
    "# Element-wise multiplication\n",
    "product_array = array1 * array2\n",
    "print(\"\\nProduct of arrays:\", product_array)\n",
    "\n",
    "# Dot product\n",
    "dot_product = np.dot(array1, array2)\n",
    "print(\"\\nDot product of arrays:\", dot_product)"
   ]
  },
  {
   "cell_type": "markdown",
   "id": "874ccfbb",
   "metadata": {},
   "source": [
    "## Indexing and Slicing\n",
    "NumPy arrays support advanced indexing and slicing to access and modify data."
   ]
  },
  {
   "cell_type": "code",
   "execution_count": 17,
   "id": "5031f452",
   "metadata": {},
   "outputs": [
    {
     "name": "stdout",
     "output_type": "stream",
     "text": [
      "First element: 10\n",
      "\n",
      "Last element: 50\n",
      "\n",
      "First three elements: [10 20 30]\n",
      "\n",
      "Every other element: [10 30 50]\n",
      "\n",
      "Sub-array:\n",
      " [[2 3]\n",
      " [5 6]]\n"
     ]
    }
   ],
   "source": [
    "array = np.array([10, 20, 30, 40, 50])\n",
    "\n",
    "# Indexing\n",
    "print(\"First element:\", array[0])\n",
    "print(\"\\nLast element:\", array[-1])\n",
    "\n",
    "# Slicining\n",
    "print(\"\\nFirst three elements:\", array[:3])\n",
    "print(\"\\nEvery other element:\", array[::2])\n",
    "\n",
    "# Multi-dimensional array slicing\n",
    "multi_array = np.array([[1, 2, 3], [4, 5, 6], [7, 8, 9]])\n",
    "print(\"\\nSub-array:\\n\", multi_array[0:2, 1:3])"
   ]
  },
  {
   "cell_type": "markdown",
   "id": "830d5d17",
   "metadata": {},
   "source": [
    "## Array Manipulation\n",
    "\n",
    "NumPy provides functions to reshape, flatten, and concatenate arrays\n"
   ]
  },
  {
   "cell_type": "code",
   "execution_count": 18,
   "id": "a668ceb7",
   "metadata": {},
   "outputs": [
    {
     "name": "stdout",
     "output_type": "stream",
     "text": [
      "Reshaped array:\n",
      " [[0 1 2]\n",
      " [3 4 5]]\n",
      "\n",
      "Flattened array: [0 1 2 3 4 5]\n",
      "\n",
      "Concatenated array: [1 2 3 4 5 6]\n"
     ]
    }
   ],
   "source": [
    "# Reshaping an array\n",
    "reshaped_array = np.arange(6).reshape((2, 3))\n",
    "print(\"Reshaped array:\\n\", reshaped_array)\n",
    "\n",
    "# Flattening an array\n",
    "flattened_array = reshaped_array.flatten()\n",
    "print(\"\\nFlattened array:\", flattened_array)\n",
    "\n",
    "# Concatenating arrays\n",
    "concatenated_array = np.concatenate((array1, array2))\n",
    "print(\"\\nConcatenated array:\", concatenated_array)\n"
   ]
  },
  {
   "cell_type": "markdown",
   "id": "95ef39df-98ee-475c-ad4b-002308535059",
   "metadata": {},
   "source": [
    "## Mathematical Functions\n",
    "\n",
    "NumPy includes a variety of mathematical functions, such as `np.sum`, `np.mean`, `np.sqrt`, and more\n"
   ]
  },
  {
   "cell_type": "code",
   "execution_count": 21,
   "id": "251da719-c68c-4eb9-be5a-6fec906dd6b9",
   "metadata": {},
   "outputs": [
    {
     "name": "stdout",
     "output_type": "stream",
     "text": [
      "Sum of elements: 150\n",
      "\n",
      "Mean of elements: 30.0\n",
      "\n",
      "Square root of elements: [3.16227766 4.47213595 5.47722558 6.32455532 7.07106781]\n"
     ]
    }
   ],
   "source": [
    "# Sum of elements\n",
    "print(\"Sum of elements:\", np.sum(array))\n",
    "\n",
    "# Mean of elements\n",
    "print(\"\\nMean of elements:\", np.mean(array))\n",
    "\n",
    "# Square root of each element\n",
    "print(\"\\nSquare root of elements:\", np.sqrt(array))"
   ]
  },
  {
   "cell_type": "markdown",
   "id": "bbc0a4a8-9a93-4bd3-a11f-d49cf275cde5",
   "metadata": {},
   "source": [
    "## Broadcasting\n",
    "\n",
    "Broadcasting allows NumPy to perform element-wise operations on arrays of different shapes\n"
   ]
  },
  {
   "cell_type": "code",
   "execution_count": 22,
   "id": "5256b7bb-fe91-4d38-8102-f31df7640806",
   "metadata": {},
   "outputs": [
    {
     "name": "stdout",
     "output_type": "stream",
     "text": [
      "Broadcasted sum:\n",
      " [[5 6 7]\n",
      " [6 7 8]\n",
      " [7 8 9]]\n"
     ]
    }
   ],
   "source": [
    "# Broadcasting example\n",
    "array3 = np.array([1, 2, 3])\n",
    "array4 = np.array([[4], [5], [6]])\n",
    "broadcasted_sum = array3 + array4\n",
    "print(\"Broadcasted sum:\\n\", broadcasted_sum)"
   ]
  },
  {
   "cell_type": "markdown",
   "id": "f8331ba1",
   "metadata": {},
   "source": [
    "## Matrix Multiplication\n",
    "\n",
    "Matrix multiplication is a binary operation that produces a matrix from two matrices. NumPy provides the `np.dot()` function for this purpose."
   ]
  },
  {
   "cell_type": "code",
   "execution_count": 24,
   "id": "6a709c7a",
   "metadata": {},
   "outputs": [
    {
     "name": "stdout",
     "output_type": "stream",
     "text": [
      "Matrix 1:\n",
      " [[1 2 3]\n",
      " [4 5 6]]\n",
      "\n",
      "Matrix 2:\n",
      " [[ 7  8]\n",
      " [ 9 10]\n",
      " [11 12]]\n",
      "\n",
      "Result of matrix multiplication:\n",
      " [[ 58  64]\n",
      " [139 154]]\n"
     ]
    }
   ],
   "source": [
    "# Multiplying two 2-dimensional arrays (matrices)\n",
    "# Here we define a 2x3 matrix and a 3x2 matrix\n",
    "matrix1 = np.array([[1, 2, 3], [4, 5, 6]])\n",
    "matrix2 = np.array([[7, 8], [9, 10], [11, 12]])\n",
    "\n",
    "# Performing matrix multiplication\n",
    "result = np.dot(matrix1, matrix2)\n",
    "print(\"Matrix 1:\\n\", matrix1)\n",
    "print(\"\\nMatrix 2:\\n\", matrix2)\n",
    "print(\"\\nResult of matrix multiplication:\\n\", result)"
   ]
  },
  {
   "cell_type": "markdown",
   "id": "a21bc6a9",
   "metadata": {},
   "source": [
    "## Conclusion\n",
    "\n",
    "This notebook has covered the basics of NumPy, including array creation, operations, and more. With these tools, you can start using NumPy for numerical computing tasks in Python."
   ]
  },
  {
   "cell_type": "markdown",
   "id": "a85b4e29-cec3-4b86-96a9-5356fe552603",
   "metadata": {},
   "source": [
    "## Extra Resources\n",
    "\n",
    "Hyperlinks are attached to each of the extra resources\n",
    "\n",
    "- [NumPy Tutorial](https://youtu.be/GB9ByFAIAH4?si=F63UUEK9E9u7IWVR)\n",
    "    - Complete Python NumPy Tutorial (Creating Arrays, Indexing, Math, Statistics, Reshaping)\n",
    "    - YouTube video\n",
    "        - Time = 58 Minutes \n",
    "      \n",
    "&nbsp;\n",
    "\n",
    "- [NumPy Tutorial](https://realpython.com/numpy-tutorial/)\n",
    "    - Complete beginner course for NumPy\n",
    "          \n",
    "&nbsp; \n",
    "     \n",
    "- [Learn Data Sci](https://www.learndatasci.com/tutorials/applied-introduction-to-numpy-python-tutorial/)\n",
    "    - NumPy Tutorial: An Applied Introduction for Beginners"
   ]
  },
  {
   "cell_type": "code",
   "execution_count": null,
   "id": "1606cbbe-63f3-4bf1-a015-418dd6d71e27",
   "metadata": {},
   "outputs": [],
   "source": []
  }
 ],
 "metadata": {
  "kernelspec": {
   "display_name": "Python 3 (ipykernel)",
   "language": "python",
   "name": "python3"
  },
  "language_info": {
   "codemirror_mode": {
    "name": "ipython",
    "version": 3
   },
   "file_extension": ".py",
   "mimetype": "text/x-python",
   "name": "python",
   "nbconvert_exporter": "python",
   "pygments_lexer": "ipython3",
   "version": "3.11.3"
  }
 },
 "nbformat": 4,
 "nbformat_minor": 5
}
