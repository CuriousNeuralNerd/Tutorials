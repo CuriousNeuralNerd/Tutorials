{
 "cells": [
  {
   "cell_type": "markdown",
   "id": "968ab339",
   "metadata": {},
   "source": [
    "# Matplotlib Basics and Usage\n",
    "Matplotlib is a comprehensive library for creating static, animated, and interactive visualizations in Python. This notebook will guide you through the basics of Matplotlib and show you how to create various types of plots."
   ]
  },
  {
   "cell_type": "markdown",
   "id": "29ca6a9a",
   "metadata": {},
   "source": [
    "## Installing Matplotlib\n",
    "To install Matplotlib, use the following command:\n",
    "```\n",
    "pip install matplotlib\n",
    "```\n",
    "You can also install it via conda if you're using Anaconda.\n",
    "\n",
    "##### NOTE:\n",
    "\n",
    "- When using Anaconda any time you want to install a package you will need to put the \"!\" infront of the pip\n",
    "&nbsp;\n",
    "\n",
    "    - This will work\n",
    "      ```\n",
    "          !pip install matplotlib\n",
    "                 or\n",
    "          !pip3 install matplotlib\n",
    "      ```\n",
    "      &nbsp;\n",
    "    - This will not work\n",
    "      ```\n",
    "          pip install matplotlib\n",
    "                 or\n",
    "          pip3 install matplotlib\n",
    "      ```"
   ]
  },
  {
   "cell_type": "code",
   "execution_count": null,
   "id": "e8c95882",
   "metadata": {},
   "outputs": [],
   "source": [
    "!pip install matplotlib"
   ]
  },
  {
   "cell_type": "markdown",
   "id": "4ab29691",
   "metadata": {},
   "source": [
    "## Basic Plotting\n",
    "Matplotlib allows you to create a wide range of plots with just a few lines of code."
   ]
  },
  {
   "cell_type": "markdown",
   "id": "b12a3133",
   "metadata": {},
   "source": [
    "### Line Plots\n",
    "Line plots are useful for visualizing trends over time."
   ]
  },
  {
   "cell_type": "code",
   "execution_count": null,
   "id": "d309fe8e",
   "metadata": {},
   "outputs": [],
   "source": [
    "import matplotlib.pyplot as plt\n",
    "\n",
    "# Simple line plot\n",
    "x = [1, 2, 3, 4, 5]\n",
    "y = [2, 4, 6, 8, 10]\n",
    "plt.plot(x, y)\n",
    "plt.title(\"Line Plot\")\n",
    "plt.xlabel(\"X-axis\")\n",
    "plt.ylabel(\"Y-axis\")\n",
    "plt.show()"
   ]
  },
  {
   "cell_type": "markdown",
   "id": "ef1d6459",
   "metadata": {},
   "source": [
    "### Scatter Plots\n",
    "Scatter plots are great for showing relationships between two variables."
   ]
  },
  {
   "cell_type": "code",
   "execution_count": null,
   "id": "16a5438c",
   "metadata": {},
   "outputs": [],
   "source": [
    "x = [1, 2, 3, 4, 5]\n",
    "y = [10, 20, 25, 30, 35]\n",
    "plt.scatter(x, y)\n",
    "plt.title(\"Scatter Plot\")\n",
    "plt.xlabel(\"X-axis\")\n",
    "plt.ylabel(\"Y-axis\")\n",
    "plt.show()"
   ]
  },
  {
   "cell_type": "markdown",
   "id": "bf7dc5b5",
   "metadata": {},
   "source": [
    "### Bar Charts\n",
    "Bar charts are used to compare values across categories."
   ]
  },
  {
   "cell_type": "code",
   "execution_count": null,
   "id": "b51a9018",
   "metadata": {},
   "outputs": [],
   "source": [
    "categories = ['A', 'B', 'C', 'D']\n",
    "values = [3, 7, 1, 9]\n",
    "plt.bar(categories, values)\n",
    "plt.title(\"Bar Chart\")\n",
    "plt.xlabel(\"Categories\")\n",
    "plt.ylabel(\"Values\")\n",
    "plt.show()"
   ]
  },
  {
   "cell_type": "markdown",
   "id": "61e6307b",
   "metadata": {},
   "source": [
    "## Customizing Plots\n",
    "Matplotlib allows extensive customization of plots to make them more informative and visually appealing."
   ]
  },
  {
   "cell_type": "markdown",
   "id": "9a8f9de9",
   "metadata": {},
   "source": [
    "### Titles and Labels\n",
    "Adding titles and labels makes the plots more understandable."
   ]
  },
  {
   "cell_type": "code",
   "execution_count": null,
   "id": "dcb0196d",
   "metadata": {},
   "outputs": [],
   "source": [
    "x = [1, 2, 3, 4, 5]\n",
    "y = [2, 4, 6, 8, 10]\n",
    "plt.plot(x, y)\n",
    "plt.title(\"Customized Line Plot\")\n",
    "plt.xlabel(\"X-axis Label\")\n",
    "plt.ylabel(\"Y-axis Label\")\n",
    "plt.grid(True)\n",
    "plt.show()"
   ]
  },
  {
   "cell_type": "markdown",
   "id": "7e1ca9d8",
   "metadata": {},
   "source": [
    "### Legends and Annotations\n",
    "Legends and annotations help identify different parts of the plot."
   ]
  },
  {
   "cell_type": "code",
   "execution_count": null,
   "id": "0f2953d6",
   "metadata": {},
   "outputs": [],
   "source": [
    "x = [1, 2, 3, 4, 5]\n",
    "y1 = [1, 4, 9, 16, 25]\n",
    "y2 = [1, 8, 27, 64, 125]\n",
    "\n",
    "plt.plot(x, y1, label=\"y = x^2\")\n",
    "plt.plot(x, y2, label=\"y = x^3\")\n",
    "plt.title(\"Plot with Legends\")\n",
    "plt.xlabel(\"X-axis\")\n",
    "plt.ylabel(\"Y-axis\")\n",
    "plt.legend()\n",
    "plt.show()"
   ]
  },
  {
   "cell_type": "markdown",
   "id": "d4171764",
   "metadata": {},
   "source": [
    "### Styles and Themes\n",
    "Matplotlib provides various styles and themes to enhance the appearance of plots."
   ]
  },
  {
   "cell_type": "code",
   "execution_count": null,
   "id": "8a216c07",
   "metadata": {},
   "outputs": [],
   "source": [
    "plt.style.use('ggplot')\n",
    "x = [0, 2, 4, 6, 8, 10]\n",
    "y = [0, 4, 16, 36, 64, 100]\n",
    "plt.plot(x, y)\n",
    "plt.title(\"Styled Plot\")\n",
    "plt.show()\n",
    "\n",
    "# Reset to default style\n",
    "plt.style.use('default')"
   ]
  },
  {
   "cell_type": "markdown",
   "id": "c85a749c",
   "metadata": {},
   "source": [
    "## Advanced Plotting\n",
    "Matplotlib can also create more complex plots like subplots and 3D plots."
   ]
  },
  {
   "cell_type": "markdown",
   "id": "1e16833d",
   "metadata": {},
   "source": [
    "### Subplots\n",
    "Subplots allow you to create multiple plots in a single figure."
   ]
  },
  {
   "cell_type": "code",
   "execution_count": null,
   "id": "c4b6df6a",
   "metadata": {},
   "outputs": [],
   "source": [
    "x = [1, 2, 3, 4, 5]\n",
    "y1 = [1, 4, 9, 16, 25]\n",
    "y2 = [2, 3, 5, 7, 11]\n",
    "\n",
    "plt.figure(figsize=(10, 5))\n",
    "\n",
    "# First subplot\n",
    "plt.subplot(1, 2, 1)\n",
    "plt.plot(x, y1)\n",
    "plt.title(\"y = x^2\")\n",
    "\n",
    "# Second subplot\n",
    "plt.subplot(1, 2, 2)\n",
    "plt.plot(x, y2)\n",
    "plt.title(\"Prime Numbers\")\n",
    "\n",
    "plt.show()"
   ]
  },
  {
   "cell_type": "markdown",
   "id": "a0580e1c",
   "metadata": {},
   "source": [
    "### 3D Plots\n",
    "Matplotlib can create 3D plots with the help of the `mpl_toolkits.mplot3d` module."
   ]
  },
  {
   "cell_type": "code",
   "execution_count": null,
   "id": "1b5d4728",
   "metadata": {},
   "outputs": [],
   "source": [
    "from mpl_toolkits.mplot3d import Axes3D\n",
    "\n",
    "fig = plt.figure()\n",
    "ax = fig.add_subplot(111, projection='3d')\n",
    "\n",
    "x = [1, 2, 3, 4, 5]\n",
    "y = [2, 3, 4, 5, 6]\n",
    "z = [3, 4, 5, 6, 7]\n",
    "\n",
    "ax.plot(x, y, z)\n",
    "ax.set_title(\"3D Plot\")\n",
    "plt.show()"
   ]
  },
  {
   "cell_type": "markdown",
   "id": "be28dc0c",
   "metadata": {},
   "source": [
    "## Practical Example: Plotting Data Trends\n",
    "Let's plot some data trends using Matplotlib."
   ]
  },
  {
   "cell_type": "code",
   "execution_count": null,
   "id": "eb12a049",
   "metadata": {},
   "outputs": [],
   "source": [
    "import numpy as np\n",
    "\n",
    "x = np.linspace(0, 10, 100)\n",
    "y = np.sin(x)\n",
    "\n",
    "plt.plot(x, y)\n",
    "plt.title(\"Sine Wave\")\n",
    "plt.xlabel(\"X-axis\")\n",
    "plt.ylabel(\"Y-axis\")\n",
    "plt.show()"
   ]
  },
  {
   "cell_type": "markdown",
   "id": "f4ed062b",
   "metadata": {},
   "source": [
    "## Conclusion\n",
    "This notebook has covered the basics of Matplotlib, including how to create and customize different types of plots. With these tools, you can start using Matplotlib to visualize your data effectively."
   ]
  },
  {
   "cell_type": "markdown",
   "id": "f8494a16-be9c-433f-9c86-56f0dfb56c8d",
   "metadata": {},
   "source": [
    "## Extra Resources\n",
    "\n",
    "Hyperlinks are attached to each of the extra resources\n",
    "\n",
    "- [Matplotlib Tutorial - W3Schools](https://www.w3schools.com/python/matplotlib_intro.asp)\n",
    "    - Complete Python Matplotlib Tutorial (Best site for beginners)\n",
    "      \n",
    "&nbsp;\n",
    "\n",
    "- [Matplotlib Tutorial](https://www.simplilearn.com/tutorials/python-tutorial/matplotlib)\n",
    "    - An Introduction to Matplotlib for Beginners - Simplilearn\n",
    "          \n",
    "&nbsp; \n",
    "     \n",
    "- [Data Camp](https://www.datacamp.com/tutorial/matplotlib-tutorial-python)\n",
    "    - Matplotlib Tutorial: An Applied Introduction for Beginners"
   ]
  },
  {
   "cell_type": "code",
   "execution_count": null,
   "id": "8374d5f8-3bc4-4d92-ad05-3dbaa40b0d08",
   "metadata": {},
   "outputs": [],
   "source": []
  }
 ],
 "metadata": {
  "kernelspec": {
   "display_name": "Python 3 (ipykernel)",
   "language": "python",
   "name": "python3"
  },
  "language_info": {
   "codemirror_mode": {
    "name": "ipython",
    "version": 3
   },
   "file_extension": ".py",
   "mimetype": "text/x-python",
   "name": "python",
   "nbconvert_exporter": "python",
   "pygments_lexer": "ipython3",
   "version": "3.11.3"
  }
 },
 "nbformat": 4,
 "nbformat_minor": 5
}
